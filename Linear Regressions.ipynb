{
 "cells": [
  {
   "cell_type": "code",
   "execution_count": 3,
   "id": "circular-venice",
   "metadata": {},
   "outputs": [],
   "source": [
    "import matplotlib.pyplot as plt\n",
    "import numpy as np\n",
    "from sklearn import datasets, linear_model\n",
    "from sklearn.metrics import mean_squared_error, r2_score"
   ]
  },
  {
   "cell_type": "code",
   "execution_count": 17,
   "id": "measured-shirt",
   "metadata": {},
   "outputs": [],
   "source": [
    "# Load the diabetes dataset\n",
    "diabetes_X, diabetes_y = datasets.load_diabetes(return_X_y=True)"
   ]
  },
  {
   "cell_type": "code",
   "execution_count": 18,
   "id": "standard-planet",
   "metadata": {},
   "outputs": [],
   "source": [
    "diabetes_X = diabetes_X[:, np.newaxis, 2]"
   ]
  },
  {
   "cell_type": "code",
   "execution_count": 12,
   "id": "saved-chamber",
   "metadata": {},
   "outputs": [],
   "source": [
    "# Split the data into training/testing sets\n",
    "diabetes_X_train = diabetes_X[:-20]\n",
    "diabetes_X_test = diabetes_X[-20:]\n",
    "\n",
    "# Split the targets into training/testing sets\n",
    "diabetes_y_train = diabetes_y[:-20]\n",
    "diabetes_y_test = diabetes_y[-20:]"
   ]
  },
  {
   "cell_type": "code",
   "execution_count": 13,
   "id": "located-transition",
   "metadata": {},
   "outputs": [
    {
     "data": {
      "text/plain": [
       "LinearRegression()"
      ]
     },
     "execution_count": 13,
     "metadata": {},
     "output_type": "execute_result"
    }
   ],
   "source": [
    "# Create linear regression object\n",
    "regr = linear_model.LinearRegression()\n",
    "\n",
    "# Train the model using the training sets\n",
    "regr.fit(diabetes_X_train, diabetes_y_train)"
   ]
  },
  {
   "cell_type": "code",
   "execution_count": 14,
   "id": "formed-spyware",
   "metadata": {},
   "outputs": [],
   "source": [
    "# Make predictions using the testing set\n",
    "diabetes_y_pred = regr.predict(diabetes_X_test)"
   ]
  },
  {
   "attachments": {},
   "cell_type": "markdown",
   "id": "prompt-italy",
   "metadata": {},
   "source": [
    "least square method finds the coefficients that best fit the data. One more condition to be added is that it also finds the unbiased coefficients. Here unbiased means that OLS doesn’t consider which independent variable is more important than others. \n",
    "\n",
    "“Is a model with the lowest RSS truly the best model?” NO!"
   ]
  },
  {
   "cell_type": "code",
   "execution_count": 15,
   "id": "growing-documentary",
   "metadata": {},
   "outputs": [
    {
     "name": "stdout",
     "output_type": "stream",
     "text": [
      "Coefficients: \n",
      " [938.23786125]\n",
      "Mean squared error: 2548.07\n",
      "Coefficient of determination: 0.47\n"
     ]
    },
    {
     "data": {
      "image/png": "[encoded data removed]",
      "text/plain": [
       "<Figure size 432x288 with 1 Axes>"
      ]
     },
     "metadata": {},
     "output_type": "display_data"
    }
   ],
   "source": [
    "# The coefficients\n",
    "print('Coefficients: \\n', regr.coef_)\n",
    "# The mean squared error\n",
    "print('Mean squared error: %.2f'\n",
    "      % mean_squared_error(diabetes_y_test, diabetes_y_pred))\n",
    "# The coefficient of determination: 1 is perfect prediction\n",
    "print('Coefficient of determination: %.2f'\n",
    "      % r2_score(diabetes_y_test, diabetes_y_pred))\n",
    "\n",
    "# Plot outputs\n",
    "plt.scatter(diabetes_X_test, diabetes_y_test,  color='black') #plot using the testing set\n",
    "plt.plot(diabetes_X_test, diabetes_y_pred, color='blue', linewidth=3) #line using the prediction\n",
    "\n",
    "plt.xticks(())\n",
    "plt.yticks(())\n",
    "\n",
    "plt.show()"
   ]
  },
  {
   "cell_type": "code",
   "execution_count": 22,
   "id": "fleet-internet",
   "metadata": {},
   "outputs": [],
   "source": [
    "# dataframe and plot\n",
    "import numpy as np\n",
    "import pandas as pd\n",
    "import matplotlib.pyplot as plt\n",
    "import matplotlib.ticker as ticker\n",
    "\n",
    "# dataset\n",
    "from sklearn.datasets import load_boston\n",
    "# scaling and dataset split\n",
    "from sklearn import preprocessing\n",
    "from sklearn.model_selection import train_test_split\n",
    "# OLS, Ridge\n",
    "from sklearn.linear_model import LinearRegression, Ridge\n",
    "# model evaluation\n",
    "from sklearn.metrics import r2_score, mean_squared_error"
   ]
  },
  {
   "cell_type": "code",
   "execution_count": 26,
   "id": "exciting-baseball",
   "metadata": {},
   "outputs": [],
   "source": [
    "# load dataset\n",
    "house_price = load_boston()\n",
    "df = pd.DataFrame(house_price.data, columns=house_price.feature_names)\n",
    "df['PRICE'] = house_price.target\n",
    "\n",
    "# standardize and train/test split\n",
    "house_price.data = preprocessing.scale(house_price.data)\n",
    "X_train, X_test, y_train, y_test = train_test_split(\n",
    "    house_price.data, house_price.target, test_size=0.3, random_state=10)"
   ]
  },
  {
   "cell_type": "code",
   "execution_count": 32,
   "id": "imposed-herald",
   "metadata": {},
   "outputs": [],
   "source": [
    "# Create linear regression object\n",
    "regr = linear_model.LinearRegression()\n",
    "\n",
    "# Train the model using the training sets\n",
    "regr.fit(X_train, y_train)\n",
    "\n",
    "# Make predictions using the testing set\n",
    "ols_pred = regr.predict(X_test)"
   ]
  },
  {
   "cell_type": "code",
   "execution_count": 28,
   "id": "accepting-fancy",
   "metadata": {},
   "outputs": [],
   "source": [
    "# initialize\n",
    "ridge_reg = Ridge(alpha=0)\n",
    "ridge_reg.fit(X_train, y_train)\n",
    "ridge_df = pd.DataFrame({'variable': house_price.feature_names, 'estimate': ridge_reg.coef_})\n",
    "ridge_train_pred = []\n",
    "ridge_test_pred = []\n",
    "\n",
    "# iterate lambdas\n",
    "for alpha in np.arange(0, 200, 1):\n",
    "    # training\n",
    "    ridge_reg = Ridge(alpha=alpha)\n",
    "    ridge_reg.fit(X_train, y_train)\n",
    "    var_name = 'estimate' + str(alpha)\n",
    "    ridge_df[var_name] = ridge_reg.coef_\n",
    "    # prediction\n",
    "    ridge_train_pred.append(ridge_reg.predict(X_train))\n",
    "    ridge_test_pred.append(ridge_reg.predict(X_test))\n",
    "\n",
    "# organize dataframe\n",
    "ridge_df = ridge_df.set_index('variable').T.rename_axis('estimate').rename_axis(1).reset_index()"
   ]
  },
  {
   "cell_type": "code",
   "execution_count": 34,
   "id": "tropical-dallas",
   "metadata": {},
   "outputs": [
    {
     "data": {
      "text/html": [
       "<div>\n",
       "<style scoped>\n",
       "    .dataframe tbody tr th:only-of-type {\n",
       "        vertical-align: middle;\n",
       "    }\n",
       "\n",
       "    .dataframe tbody tr th {\n",
       "        vertical-align: top;\n",
       "    }\n",
       "\n",
       "    .dataframe thead th {\n",
       "        text-align: right;\n",
       "    }\n",
       "</style>\n",
       "<table border=\"1\" class=\"dataframe\">\n",
       "  <thead>\n",
       "    <tr style=\"text-align: right;\">\n",
       "      <th>variable</th>\n",
       "      <th>1</th>\n",
       "      <th>CRIM</th>\n",
       "      <th>ZN</th>\n",
       "      <th>INDUS</th>\n",
       "      <th>CHAS</th>\n",
       "      <th>NOX</th>\n",
       "      <th>RM</th>\n",
       "      <th>AGE</th>\n",
       "      <th>DIS</th>\n",
       "      <th>RAD</th>\n",
       "      <th>TAX</th>\n",
       "      <th>PTRATIO</th>\n",
       "      <th>B</th>\n",
       "      <th>LSTAT</th>\n",
       "    </tr>\n",
       "  </thead>\n",
       "  <tbody>\n",
       "    <tr>\n",
       "      <th>0</th>\n",
       "      <td>estimate</td>\n",
       "      <td>-1.321404</td>\n",
       "      <td>1.514832</td>\n",
       "      <td>-0.166266</td>\n",
       "      <td>0.411579</td>\n",
       "      <td>-1.771168</td>\n",
       "      <td>2.352821</td>\n",
       "      <td>0.318499</td>\n",
       "      <td>-3.256645</td>\n",
       "      <td>2.632576</td>\n",
       "      <td>-2.059466</td>\n",
       "      <td>-1.755201</td>\n",
       "      <td>1.181143</td>\n",
       "      <td>-3.887043</td>\n",
       "    </tr>\n",
       "    <tr>\n",
       "      <th>1</th>\n",
       "      <td>estimate0</td>\n",
       "      <td>-1.321404</td>\n",
       "      <td>1.514832</td>\n",
       "      <td>-0.166266</td>\n",
       "      <td>0.411579</td>\n",
       "      <td>-1.771168</td>\n",
       "      <td>2.352821</td>\n",
       "      <td>0.318499</td>\n",
       "      <td>-3.256645</td>\n",
       "      <td>2.632576</td>\n",
       "      <td>-2.059466</td>\n",
       "      <td>-1.755201</td>\n",
       "      <td>1.181143</td>\n",
       "      <td>-3.887043</td>\n",
       "    </tr>\n",
       "    <tr>\n",
       "      <th>2</th>\n",
       "      <td>estimate1</td>\n",
       "      <td>-1.305844</td>\n",
       "      <td>1.491704</td>\n",
       "      <td>-0.186300</td>\n",
       "      <td>0.416554</td>\n",
       "      <td>-1.734866</td>\n",
       "      <td>2.368304</td>\n",
       "      <td>0.305241</td>\n",
       "      <td>-3.213459</td>\n",
       "      <td>2.540705</td>\n",
       "      <td>-1.976631</td>\n",
       "      <td>-1.746362</td>\n",
       "      <td>1.179751</td>\n",
       "      <td>-3.867286</td>\n",
       "    </tr>\n",
       "    <tr>\n",
       "      <th>3</th>\n",
       "      <td>estimate2</td>\n",
       "      <td>-1.291053</td>\n",
       "      <td>1.469716</td>\n",
       "      <td>-0.204508</td>\n",
       "      <td>0.421192</td>\n",
       "      <td>-1.700188</td>\n",
       "      <td>2.382762</td>\n",
       "      <td>0.292616</td>\n",
       "      <td>-3.171513</td>\n",
       "      <td>2.455276</td>\n",
       "      <td>-1.900395</td>\n",
       "      <td>-1.737941</td>\n",
       "      <td>1.178322</td>\n",
       "      <td>-3.847925</td>\n",
       "    </tr>\n",
       "    <tr>\n",
       "      <th>4</th>\n",
       "      <td>estimate3</td>\n",
       "      <td>-1.276962</td>\n",
       "      <td>1.448771</td>\n",
       "      <td>-0.221104</td>\n",
       "      <td>0.425531</td>\n",
       "      <td>-1.667018</td>\n",
       "      <td>2.396278</td>\n",
       "      <td>0.280573</td>\n",
       "      <td>-3.130750</td>\n",
       "      <td>2.375608</td>\n",
       "      <td>-1.830033</td>\n",
       "      <td>-1.729900</td>\n",
       "      <td>1.176856</td>\n",
       "      <td>-3.828944</td>\n",
       "    </tr>\n",
       "  </tbody>\n",
       "</table>\n",
       "</div>"
      ],
      "text/plain": [
       "variable          1      CRIM        ZN     INDUS      CHAS       NOX  \\\n",
       "0          estimate -1.321404  1.514832 -0.166266  0.411579 -1.771168   \n",
       "1         estimate0 -1.321404  1.514832 -0.166266  0.411579 -1.771168   \n",
       "2         estimate1 -1.305844  1.491704 -0.186300  0.416554 -1.734866   \n",
       "3         estimate2 -1.291053  1.469716 -0.204508  0.421192 -1.700188   \n",
       "4         estimate3 -1.276962  1.448771 -0.221104  0.425531 -1.667018   \n",
       "\n",
       "variable        RM       AGE       DIS       RAD       TAX   PTRATIO  \\\n",
       "0         2.352821  0.318499 -3.256645  2.632576 -2.059466 -1.755201   \n",
       "1         2.352821  0.318499 -3.256645  2.632576 -2.059466 -1.755201   \n",
       "2         2.368304  0.305241 -3.213459  2.540705 -1.976631 -1.746362   \n",
       "3         2.382762  0.292616 -3.171513  2.455276 -1.900395 -1.737941   \n",
       "4         2.396278  0.280573 -3.130750  2.375608 -1.830033 -1.729900   \n",
       "\n",
       "variable         B     LSTAT  \n",
       "0         1.181143 -3.887043  \n",
       "1         1.181143 -3.887043  \n",
       "2         1.179751 -3.867286  \n",
       "3         1.178322 -3.847925  \n",
       "4         1.176856 -3.828944  "
      ]
     },
     "execution_count": 34,
     "metadata": {},
     "output_type": "execute_result"
    }
   ],
   "source": [
    "ridge_df.head()"
   ]
  },
  {
   "cell_type": "code",
   "execution_count": 29,
   "id": "fifty-cardiff",
   "metadata": {},
   "outputs": [
    {
     "data": {
      "image/png": "[encoded data removed]",
      "text/plain": [
       "<Figure size 720x360 with 1 Axes>"
      ]
     },
     "metadata": {
      "needs_background": "light"
     },
     "output_type": "display_data"
    }
   ],
   "source": [
    "# plot betas by lambda\n",
    "fig, ax = plt.subplots(figsize=(10, 5))\n",
    "ax.plot(ridge_df.RM, 'r', ridge_df.ZN, 'g', ridge_df.RAD, 'b', ridge_df.CRIM, 'c', ridge_df.TAX, 'y')\n",
    "ax.axhline(y=0, color='black', linestyle='--')\n",
    "ax.set_xlabel(\"Lambda\")\n",
    "ax.set_ylabel(\"Beta Estimate\")\n",
    "ax.set_title(\"Ridge Regression Trace\", fontsize=16)\n",
    "ax.legend(labels=['Room','Residential Zone','Highway Access','Crime Rate','Tax'])\n",
    "ax.grid(True)"
   ]
  },
  {
   "cell_type": "markdown",
   "id": "smart-witness",
   "metadata": {},
   "source": [
    "Through the demonstration, we confirmed that there is no equation for finding the best lambda. Thus, we needed to iterate a series of values and evaluate prediction performances with MSE. By doing so, we found that the ridge regression model performs better than the plain linear regression model for prediction.\n",
    "OLS simply finds the best fit for given data\n",
    "Features have different contributions to RSS\n",
    "Ridge regression gives a bias to important features\n",
    "MSE or R-square can be used to find the best lambd"
   ]
  },
  {
   "cell_type": "code",
   "execution_count": 33,
   "id": "atomic-merchant",
   "metadata": {},
   "outputs": [
    {
     "data": {
      "text/plain": [
       "Text(0, 0.5, 'MSE')"
      ]
     },
     "execution_count": 33,
     "metadata": {},
     "output_type": "execute_result"
    },
    {
     "data": {
      "image/png": "[encoded data removed]",
      "text/plain": [
       "<Figure size 432x288 with 1 Axes>"
      ]
     },
     "metadata": {
      "needs_background": "light"
     },
     "output_type": "display_data"
    }
   ],
   "source": [
    "# MSE of Ridge and OLS\n",
    "ridge_mse_test = [mean_squared_error(y_test, p) for p in ridge_test_pred]\n",
    "ols_mse = mean_squared_error(y_test, ols_pred)\n",
    "\n",
    "# plot mse\n",
    "plt.plot(ridge_mse_test[:25], 'ro')\n",
    "plt.axhline(y=ols_mse, color='g', linestyle='--')\n",
    "plt.title(\"Ridge Test Set MSE\", fontsize=16)\n",
    "plt.xlabel(\"Model Simplicity$\\longrightarrow$\")\n",
    "plt.ylabel(\"MSE\")"
   ]
  },
  {
   "cell_type": "code",
   "execution_count": null,
   "id": "provincial-delivery",
   "metadata": {},
   "outputs": [],
   "source": []
  }
 ],
 "metadata": {
  "kernelspec": {
   "display_name": "machine_learning",
   "language": "python",
   "name": "machine_learning"
  },
  "language_info": {
   "codemirror_mode": {
    "name": "ipython",
    "version": 3
   },
   "file_extension": ".py",
   "mimetype": "text/x-python",
   "name": "python",
   "nbconvert_exporter": "python",
   "pygments_lexer": "ipython3",
   "version": "3.9.2"
  }
 },
 "nbformat": 4,
 "nbformat_minor": 5
}
